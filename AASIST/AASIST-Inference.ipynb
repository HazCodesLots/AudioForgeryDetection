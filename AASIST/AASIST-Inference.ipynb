{
 "cells": [
  {
   "cell_type": "code",
   "execution_count": 1,
   "id": "c6fdc4dd-a784-4dec-9e01-8e384e333ef5",
   "metadata": {},
   "outputs": [
    {
     "name": "stdout",
     "output_type": "stream",
     "text": [
      "AASIST model loaded on cuda\n"
     ]
    }
   ],
   "source": [
    "import torch\n",
    "import json\n",
    "import sys\n",
    "\n",
    "sys.path.append(\"D:/Work/JupytorWorkspace/AASIST\")\n",
    "\n",
    "from aasist.models.AASIST import Model\n",
    "\n",
    "with open(\"D:/Work/JupytorWorkspace/AASIST/aasist/config/AASIST.conf\", \"r\") as f:\n",
    "    full_config = json.load(f)\n",
    "\n",
    "model_config = full_config[\"model_config\"]\n",
    "model_path = full_config[\"model_path\"]\n",
    "\n",
    "device = torch.device(\"cuda\" if torch.cuda.is_available() else \"cpu\")\n",
    "model = Model(model_config)\n",
    "\n",
    "state_dict = torch.load(model_path, map_location=device)\n",
    "model.load_state_dict(state_dict)\n",
    "model = model.to(device).eval()\n",
    "\n",
    "print(\"AASIST model loaded on\", device)"
   ]
  },
  {
   "cell_type": "code",
   "execution_count": 2,
   "id": "e37d8ca5-3453-4231-93f5-0ac91b395688",
   "metadata": {},
   "outputs": [],
   "source": [
    "import os\n",
    "import librosa\n",
    "import torch\n",
    "from torch.utils.data import Dataset\n",
    "\n",
    "class ASVspoof2021LAEvalDataset(Dataset):\n",
    "    def __init__(self, protocol_path, flac_dir, nb_samples=64600):\n",
    "        self.nb_samples = nb_samples\n",
    "        self.flac_dir = flac_dir\n",
    "        self.entries = []\n",
    "\n",
    "        with open(protocol_path, 'r') as f:\n",
    "            for line in f:\n",
    "                parts = line.strip().split()\n",
    "                if len(parts) >= 1:\n",
    "                    utt_id = parts[0]\n",
    "                    flac_path = os.path.join(self.flac_dir, f\"{utt_id}.flac\")\n",
    "                    if os.path.exists(flac_path):\n",
    "                        self.entries.append(utt_id)\n",
    "                    else:\n",
    "                        print(f\"Missing file: {flac_path}\")\n",
    "\n",
    "    def __len__(self):\n",
    "        return len(self.entries)\n",
    "\n",
    "    def __getitem__(self, index):\n",
    "        utt_id = self.entries[index]\n",
    "        flac_path = os.path.join(self.flac_dir, f\"{utt_id}.flac\")\n",
    "\n",
    "        try:\n",
    "            waveform, sr = librosa.load(flac_path, sr=16000)\n",
    "            waveform = torch.tensor(waveform, dtype=torch.float32)\n",
    "\n",
    "            if waveform.dim() > 1:\n",
    "                waveform = waveform.mean(dim=1)\n",
    "\n",
    "            if waveform.size(0) < self.nb_samples:\n",
    "                padding = self.nb_samples - waveform.size(0)\n",
    "                waveform = torch.nn.functional.pad(waveform, (0, padding))\n",
    "            else:\n",
    "                waveform = waveform[:self.nb_samples]\n",
    "\n",
    "            waveform = waveform.unsqueeze(0)  # [1, T]\n",
    "            return waveform, utt_id\n",
    "\n",
    "        except Exception as e:\n",
    "            print(f\"Error loading {flac_path}: {e}\")\n",
    "            return None"
   ]
  },
  {
   "cell_type": "code",
   "execution_count": 3,
   "id": "4b57c74c-b71d-4a82-b5a5-f1dd3472aecf",
   "metadata": {},
   "outputs": [
    {
     "name": "stderr",
     "output_type": "stream",
     "text": [
      "Evaluating: 100%|██████████| 181566/181566 [5:27:08<00:00,  9.25file/s]  \n"
     ]
    },
    {
     "name": "stdout",
     "output_type": "stream",
     "text": [
      "Saved 181566 scores to aasist_eval_results.json\n"
     ]
    }
   ],
   "source": [
    "from torch.utils.data import DataLoader\n",
    "from tqdm import tqdm\n",
    "import json\n",
    "import warnings\n",
    "warnings.filterwarnings(\"ignore\")\n",
    "\n",
    "protocol_path = r\"C:\\Users\\DaysPC\\Documents\\Datasets\\ASVspoof2021\\ASVspoof2021_LA_eval\\ASVspoof2021_LA_eval\\ASVspoof2021.LA.cm.eval.trl.txt\"\n",
    "flac_dir = r\"C:\\Users\\DaysPC\\Documents\\Datasets\\ASVspoof2021\\ASVspoof2021_LA_eval\\ASVspoof2021_LA_eval\\flac\"\n",
    "\n",
    "dataset = ASVspoof2021LAEvalDataset(protocol_path, flac_dir)\n",
    "loader = DataLoader(dataset, batch_size=1, shuffle=False, num_workers=0)\n",
    "\n",
    "results = {}\n",
    "\n",
    "for batch in tqdm(loader, desc=\"Evaluating\", unit=\"file\"):\n",
    "    if batch is None or batch[0] is None:\n",
    "        continue\n",
    "\n",
    "    waveform, utt_id = batch\n",
    "    waveform = waveform.squeeze(0).to(device)\n",
    "\n",
    "    with torch.no_grad():\n",
    "        out = model(waveform)\n",
    "        score = out[0].mean().item()\n",
    "        results[utt_id[0]] = score\n",
    "\n",
    "with open(\"aasist_eval_results.json\", \"w\") as f:\n",
    "    json.dump(results, f, indent=2)\n",
    "\n",
    "print(f\"Saved {len(results)} scores to aasist_eval_results.json\")"
   ]
  },
  {
   "cell_type": "code",
   "execution_count": null,
   "id": "e328940b-fb46-487f-a7b2-a6218a9b55c4",
   "metadata": {},
   "outputs": [],
   "source": []
  }
 ],
 "metadata": {
  "kernelspec": {
   "display_name": "Python [conda env:py310-cuda]",
   "language": "python",
   "name": "conda-env-py310-cuda-py"
  },
  "language_info": {
   "codemirror_mode": {
    "name": "ipython",
    "version": 3
   },
   "file_extension": ".py",
   "mimetype": "text/x-python",
   "name": "python",
   "nbconvert_exporter": "python",
   "pygments_lexer": "ipython3",
   "version": "3.10.18"
  }
 },
 "nbformat": 4,
 "nbformat_minor": 5
}

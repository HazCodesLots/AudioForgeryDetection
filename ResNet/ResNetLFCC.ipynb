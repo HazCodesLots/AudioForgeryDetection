{
 "cells": [
  {
   "cell_type": "code",
   "execution_count": null,
   "id": "52c67674-bf89-41fe-a273-b9fa019948ea",
   "metadata": {},
   "outputs": [],
   "source": [
    "import os\n",
    "import numpy as np\n",
    "import soundfile as sf\n",
    "import scipy.signal\n",
    "import scipy.fftpack\n",
    "from pathlib import Path\n",
    "\n",
    "def extract_lfcc(signal, samplerate=16000, n_fft=512, n_filters=20, n_ceps=20, winlen=0.025, winstep=0.01):\n",
    "    signal = scipy.signal.lfilter([1, -0.97], 1, signal)\n",
    "\n",
    "    frame_len = int(winlen * samplerate)\n",
    "    frame_step = int(winstep * samplerate)\n",
    "    signal_length = len(signal)\n",
    "    num_frames = 1 + int((signal_length - frame_len) / frame_step)\n",
    "\n",
    "    frames = np.zeros((num_frames, frame_len))\n",
    "    for i in range(num_frames):\n",
    "        start = i * frame_step\n",
    "        frames[i] = signal[start:start + frame_len] * np.hamming(frame_len)\n",
    "\n",
    "    mag_frames = np.absolute(np.fft.rfft(frames, n=n_fft))\n",
    "    pow_frames = ((1.0 / n_fft) * (mag_frames ** 2))\n",
    "\n",
    "    low_freq = 0\n",
    "    high_freq = samplerate / 2\n",
    "    hz_points = np.linspace(low_freq, high_freq, n_filters + 2)\n",
    "    bins = np.floor((n_fft + 1) * hz_points / samplerate).astype(int)\n",
    "\n",
    "    filterbank = np.zeros((n_filters, int(n_fft / 2 + 1)))\n",
    "    for m in range(1, n_filters + 1):\n",
    "        f_m_minus, f_m, f_m_plus = bins[m - 1], bins[m], bins[m + 1]\n",
    "        for k in range(f_m_minus, f_m):\n",
    "            filterbank[m - 1, k] = (k - f_m_minus) / (f_m - f_m_minus)\n",
    "        for k in range(f_m, f_m_plus):\n",
    "            filterbank[m - 1, k] = (f_m_plus - k) / (f_m_plus - f_m)\n",
    "\n",
    "    feat = np.dot(pow_frames, filterbank.T)\n",
    "    feat = np.where(feat == 0, np.finfo(float).eps, feat)\n",
    "    log_feat = np.log(feat)\n",
    "\n",
    "    lfcc = scipy.fftpack.dct(log_feat, type=2, axis=1, norm='ortho')[:, :n_ceps]\n",
    "    return lfcc\n",
    "\n",
    "def process_odss_odss_style(dataset_path, output_path, sr=16000):\n",
    "    dataset_path = Path(dataset_path)\n",
    "    output_path = Path(output_path)\n",
    "    output_path.mkdir(exist_ok=True)\n",
    "\n",
    "    class_map = {\n",
    "        \"natural\": \"bonafide\",\n",
    "        \"fastpitch-hifigan\": \"spoof\",\n",
    "        \"vits\": \"spoof\"\n",
    "    }\n",
    "\n",
    "    total = 0\n",
    "    skipped = 0\n",
    "\n",
    "    for subfolder, label in class_map.items():\n",
    "        audio_dir = dataset_path / subfolder\n",
    "        out_dir_base = output_path / label / subfolder\n",
    "\n",
    "        for wav_file in audio_dir.rglob(\"*.wav\"):\n",
    "            try:\n",
    "                signal, rate = sf.read(str(wav_file))\n",
    "                if rate != sr:\n",
    "                    print(f\"[!] Skipping {wav_file.name}: Sample rate {rate} ≠ {sr}\")\n",
    "                    skipped += 1\n",
    "                    continue\n",
    "\n",
    "                lfcc_feat = extract_lfcc(signal, samplerate=sr)\n",
    "                rel_path = wav_file.relative_to(audio_dir).with_suffix(\".npy\")\n",
    "                out_file = out_dir_base / rel_path\n",
    "                out_file.parent.mkdir(parents=True, exist_ok=True)\n",
    "\n",
    "                np.save(out_file, lfcc_feat)\n",
    "                total += 1\n",
    "                print(f\"[✓] Saved LFCC: {out_file}\")\n",
    "            except Exception as e:\n",
    "                print(f\"[X] Failed {wav_file.name}: {e}\")\n",
    "                skipped += 1\n",
    "\n",
    "process_odss_odss_style(\n",
    "    dataset_path=r\"C:\\Users\\DaysPC\\Documents\\Datasets\\odss\",\n",
    "    output_path=r\"C:\\Users\\DaysPC\\Documents\\Datasets\\odss_lfcc\"\n",
    ")"
   ]
  },
  {
   "cell_type": "code",
   "execution_count": 3,
   "id": "430e8e92-bdbc-48ca-b781-0d799b99bc9b",
   "metadata": {},
   "outputs": [],
   "source": [
    "import torch\n",
    "from torch.utils.data import Dataset\n",
    "import numpy as np\n",
    "from pathlib import Path\n",
    "\n",
    "class ODSSLFCCDataset(Dataset):\n",
    "    def __init__(self, root_dir, transform=None, max_len=400):\n",
    "        self.root_dir = Path(root_dir)\n",
    "        self.transform = transform\n",
    "        self.max_len = max_len\n",
    "        self.samples = []\n",
    "\n",
    "        for label_str in ['bonafide', 'spoof']:\n",
    "            label = 1 if label_str == 'bonafide' else 0\n",
    "            for npy_file in (self.root_dir / label_str).rglob(\"*.npy\"):\n",
    "                self.samples.append((npy_file, label))\n",
    "\n",
    "    def __len__(self):\n",
    "        return len(self.samples)\n",
    "\n",
    "    def __getitem__(self, idx):\n",
    "        path, label = self.samples[idx]\n",
    "        try:\n",
    "            lfcc = np.load(path)\n",
    "        except Exception as e:\n",
    "            print(f\"[ERROR] Could not load {path.name}: {e}\")\n",
    "            return self.__getitem__((idx + 1) % len(self))\n",
    "\n",
    "        if lfcc.ndim != 2 or lfcc.shape[1] != 20:\n",
    "            print(f\"[WARN] Invalid LFCC shape: {path.name} -> {lfcc.shape}\")\n",
    "            return self.__getitem__((idx + 1) % len(self))\n",
    "\n",
    "        if lfcc.shape[0] < self.max_len:\n",
    "            pad_width = self.max_len - lfcc.shape[0]\n",
    "            lfcc = np.pad(lfcc, ((0, pad_width), (0, 0)), mode='constant')\n",
    "        else:\n",
    "            lfcc = lfcc[:self.max_len, :]\n",
    "\n",
    "        lfcc = torch.tensor(lfcc, dtype=torch.float32).unsqueeze(0)\n",
    "        label = torch.tensor(label, dtype=torch.long)\n",
    "        return lfcc, label"
   ]
  },
  {
   "cell_type": "code",
   "execution_count": 4,
   "id": "cdb85b23-090f-4ae8-9c71-bcace8e0eb0c",
   "metadata": {},
   "outputs": [],
   "source": [
    "from torch.utils.data import DataLoader, random_split\n",
    "\n",
    "dataset_path = r\"C:\\Users\\DaysPC\\Documents\\Datasets\\odss_lfcc\"\n",
    "\n",
    "dataset = ODSSLFCCDataset(dataset_path)\n",
    "\n",
    "train_size = int(0.8 * len(dataset))\n",
    "val_size = len(dataset) - train_size\n",
    "train_dataset, val_dataset = random_split(dataset, [train_size, val_size])\n",
    "\n",
    "train_loader = DataLoader(train_dataset, batch_size=16, shuffle=True)\n",
    "val_loader = DataLoader(val_dataset, batch_size=16, shuffle=False)"
   ]
  },
  {
   "cell_type": "code",
   "execution_count": 5,
   "id": "65148b87-e197-47db-ae2b-6987918fe0d0",
   "metadata": {},
   "outputs": [
    {
     "name": "stdout",
     "output_type": "stream",
     "text": [
      "LFCC shape: torch.Size([16, 1, 400, 20])\n",
      "Labels: tensor([0, 0, 0, 1, 1, 1, 1, 0, 1, 1, 0, 0, 0, 0, 0, 0])\n"
     ]
    }
   ],
   "source": [
    "for x, y in train_loader:\n",
    "    print(f\"LFCC shape: {x.shape}\")\n",
    "    print(f\"Labels: {y}\")\n",
    "    break"
   ]
  },
  {
   "cell_type": "code",
   "execution_count": 6,
   "id": "0762379f-8ff4-4f10-b669-48bc1dbc9c79",
   "metadata": {},
   "outputs": [],
   "source": [
    "import torch.nn as nn\n",
    "import torch.nn.functional as F\n",
    "\n",
    "class BasicBlock(nn.Module):\n",
    "    expansion = 1\n",
    "    def __init__(self, in_planes, planes, stride=1, downsample=None):\n",
    "        super(BasicBlock, self).__init__()\n",
    "        self.conv1 = nn.Conv2d(in_planes, planes, kernel_size=3, stride=stride,\n",
    "                               padding=1, bias=False)\n",
    "        self.bn1 = nn.BatchNorm2d(planes)\n",
    "        self.relu = nn.ReLU(inplace=True)\n",
    "        self.conv2 = nn.Conv2d(planes, planes, kernel_size=3,\n",
    "                               padding=1, bias=False)\n",
    "        self.bn2 = nn.BatchNorm2d(planes)\n",
    "        self.downsample = downsample\n",
    "\n",
    "    def forward(self, x):\n",
    "        identity = x\n",
    "        out = self.relu(self.bn1(self.conv1(x)))\n",
    "        out = self.bn2(self.conv2(out))\n",
    "        if self.downsample:\n",
    "            identity = self.downsample(x)\n",
    "        out += identity\n",
    "        return self.relu(out)"
   ]
  },
  {
   "cell_type": "code",
   "execution_count": 7,
   "id": "ee48b614-dfff-4f08-b7a1-dbc376a1797c",
   "metadata": {},
   "outputs": [],
   "source": [
    "class ResNetLFCC(nn.Module):\n",
    "    def __init__(self, block=BasicBlock, layers=[2,2,2,2], num_classes=2):\n",
    "        super(ResNetLFCC, self).__init__()\n",
    "        self.inplanes = 64\n",
    "\n",
    "        self.conv1 = nn.Conv2d(1, 64, kernel_size=7, stride=2, padding=3,\n",
    "                               bias=False)\n",
    "        self.bn1 = nn.BatchNorm2d(64)\n",
    "        self.relu = nn.ReLU(inplace=True)\n",
    "        self.maxpool = nn.MaxPool2d(kernel_size=3, stride=2, padding=1)\n",
    "\n",
    "        self.layer1 = self._make_layer(block, 64,  layers[0])\n",
    "        self.layer2 = self._make_layer(block, 128, layers[1], stride=2)\n",
    "        self.layer3 = self._make_layer(block, 256, layers[2], stride=2)\n",
    "        self.layer4 = self._make_layer(block, 512, layers[3], stride=2)\n",
    "\n",
    "        self.avgpool = nn.AdaptiveAvgPool2d((1, 1))\n",
    "        self.fc = nn.Linear(512 * block.expansion, num_classes)\n",
    "\n",
    "    def _make_layer(self, block, planes, blocks, stride=1):\n",
    "        downsample = None\n",
    "        if stride != 1 or self.inplanes != planes * block.expansion:\n",
    "            downsample = nn.Sequential(\n",
    "                nn.Conv2d(self.inplanes, planes * block.expansion,\n",
    "                          kernel_size=1, stride=stride, bias=False),\n",
    "                nn.BatchNorm2d(planes * block.expansion)\n",
    "            )\n",
    "        layers = [block(self.inplanes, planes, stride, downsample)]\n",
    "        self.inplanes = planes * block.expansion\n",
    "        for _ in range(1, blocks):\n",
    "            layers.append(block(self.inplanes, planes))\n",
    "        return nn.Sequential(*layers)\n",
    "\n",
    "    def forward(self, x):\n",
    "        x = self.maxpool(self.relu(self.bn1(self.conv1(x))))\n",
    "        x = self.layer1(x)\n",
    "        x = self.layer2(x)\n",
    "        x = self.layer3(x)\n",
    "        x = self.layer4(x)\n",
    "        x = self.avgpool(x)\n",
    "        x = torch.flatten(x, 1)\n",
    "        return self.fc(x)\n"
   ]
  },
  {
   "cell_type": "code",
   "execution_count": 8,
   "id": "10110846-7307-4623-8017-a16ce6c3f054",
   "metadata": {},
   "outputs": [
    {
     "data": {
      "text/plain": [
       "ResNetLFCC(\n",
       "  (conv1): Conv2d(1, 64, kernel_size=(7, 7), stride=(2, 2), padding=(3, 3), bias=False)\n",
       "  (bn1): BatchNorm2d(64, eps=1e-05, momentum=0.1, affine=True, track_running_stats=True)\n",
       "  (relu): ReLU(inplace=True)\n",
       "  (maxpool): MaxPool2d(kernel_size=3, stride=2, padding=1, dilation=1, ceil_mode=False)\n",
       "  (layer1): Sequential(\n",
       "    (0): BasicBlock(\n",
       "      (conv1): Conv2d(64, 64, kernel_size=(3, 3), stride=(1, 1), padding=(1, 1), bias=False)\n",
       "      (bn1): BatchNorm2d(64, eps=1e-05, momentum=0.1, affine=True, track_running_stats=True)\n",
       "      (relu): ReLU(inplace=True)\n",
       "      (conv2): Conv2d(64, 64, kernel_size=(3, 3), stride=(1, 1), padding=(1, 1), bias=False)\n",
       "      (bn2): BatchNorm2d(64, eps=1e-05, momentum=0.1, affine=True, track_running_stats=True)\n",
       "    )\n",
       "    (1): BasicBlock(\n",
       "      (conv1): Conv2d(64, 64, kernel_size=(3, 3), stride=(1, 1), padding=(1, 1), bias=False)\n",
       "      (bn1): BatchNorm2d(64, eps=1e-05, momentum=0.1, affine=True, track_running_stats=True)\n",
       "      (relu): ReLU(inplace=True)\n",
       "      (conv2): Conv2d(64, 64, kernel_size=(3, 3), stride=(1, 1), padding=(1, 1), bias=False)\n",
       "      (bn2): BatchNorm2d(64, eps=1e-05, momentum=0.1, affine=True, track_running_stats=True)\n",
       "    )\n",
       "  )\n",
       "  (layer2): Sequential(\n",
       "    (0): BasicBlock(\n",
       "      (conv1): Conv2d(64, 128, kernel_size=(3, 3), stride=(2, 2), padding=(1, 1), bias=False)\n",
       "      (bn1): BatchNorm2d(128, eps=1e-05, momentum=0.1, affine=True, track_running_stats=True)\n",
       "      (relu): ReLU(inplace=True)\n",
       "      (conv2): Conv2d(128, 128, kernel_size=(3, 3), stride=(1, 1), padding=(1, 1), bias=False)\n",
       "      (bn2): BatchNorm2d(128, eps=1e-05, momentum=0.1, affine=True, track_running_stats=True)\n",
       "      (downsample): Sequential(\n",
       "        (0): Conv2d(64, 128, kernel_size=(1, 1), stride=(2, 2), bias=False)\n",
       "        (1): BatchNorm2d(128, eps=1e-05, momentum=0.1, affine=True, track_running_stats=True)\n",
       "      )\n",
       "    )\n",
       "    (1): BasicBlock(\n",
       "      (conv1): Conv2d(128, 128, kernel_size=(3, 3), stride=(1, 1), padding=(1, 1), bias=False)\n",
       "      (bn1): BatchNorm2d(128, eps=1e-05, momentum=0.1, affine=True, track_running_stats=True)\n",
       "      (relu): ReLU(inplace=True)\n",
       "      (conv2): Conv2d(128, 128, kernel_size=(3, 3), stride=(1, 1), padding=(1, 1), bias=False)\n",
       "      (bn2): BatchNorm2d(128, eps=1e-05, momentum=0.1, affine=True, track_running_stats=True)\n",
       "    )\n",
       "  )\n",
       "  (layer3): Sequential(\n",
       "    (0): BasicBlock(\n",
       "      (conv1): Conv2d(128, 256, kernel_size=(3, 3), stride=(2, 2), padding=(1, 1), bias=False)\n",
       "      (bn1): BatchNorm2d(256, eps=1e-05, momentum=0.1, affine=True, track_running_stats=True)\n",
       "      (relu): ReLU(inplace=True)\n",
       "      (conv2): Conv2d(256, 256, kernel_size=(3, 3), stride=(1, 1), padding=(1, 1), bias=False)\n",
       "      (bn2): BatchNorm2d(256, eps=1e-05, momentum=0.1, affine=True, track_running_stats=True)\n",
       "      (downsample): Sequential(\n",
       "        (0): Conv2d(128, 256, kernel_size=(1, 1), stride=(2, 2), bias=False)\n",
       "        (1): BatchNorm2d(256, eps=1e-05, momentum=0.1, affine=True, track_running_stats=True)\n",
       "      )\n",
       "    )\n",
       "    (1): BasicBlock(\n",
       "      (conv1): Conv2d(256, 256, kernel_size=(3, 3), stride=(1, 1), padding=(1, 1), bias=False)\n",
       "      (bn1): BatchNorm2d(256, eps=1e-05, momentum=0.1, affine=True, track_running_stats=True)\n",
       "      (relu): ReLU(inplace=True)\n",
       "      (conv2): Conv2d(256, 256, kernel_size=(3, 3), stride=(1, 1), padding=(1, 1), bias=False)\n",
       "      (bn2): BatchNorm2d(256, eps=1e-05, momentum=0.1, affine=True, track_running_stats=True)\n",
       "    )\n",
       "  )\n",
       "  (layer4): Sequential(\n",
       "    (0): BasicBlock(\n",
       "      (conv1): Conv2d(256, 512, kernel_size=(3, 3), stride=(2, 2), padding=(1, 1), bias=False)\n",
       "      (bn1): BatchNorm2d(512, eps=1e-05, momentum=0.1, affine=True, track_running_stats=True)\n",
       "      (relu): ReLU(inplace=True)\n",
       "      (conv2): Conv2d(512, 512, kernel_size=(3, 3), stride=(1, 1), padding=(1, 1), bias=False)\n",
       "      (bn2): BatchNorm2d(512, eps=1e-05, momentum=0.1, affine=True, track_running_stats=True)\n",
       "      (downsample): Sequential(\n",
       "        (0): Conv2d(256, 512, kernel_size=(1, 1), stride=(2, 2), bias=False)\n",
       "        (1): BatchNorm2d(512, eps=1e-05, momentum=0.1, affine=True, track_running_stats=True)\n",
       "      )\n",
       "    )\n",
       "    (1): BasicBlock(\n",
       "      (conv1): Conv2d(512, 512, kernel_size=(3, 3), stride=(1, 1), padding=(1, 1), bias=False)\n",
       "      (bn1): BatchNorm2d(512, eps=1e-05, momentum=0.1, affine=True, track_running_stats=True)\n",
       "      (relu): ReLU(inplace=True)\n",
       "      (conv2): Conv2d(512, 512, kernel_size=(3, 3), stride=(1, 1), padding=(1, 1), bias=False)\n",
       "      (bn2): BatchNorm2d(512, eps=1e-05, momentum=0.1, affine=True, track_running_stats=True)\n",
       "    )\n",
       "  )\n",
       "  (avgpool): AdaptiveAvgPool2d(output_size=(1, 1))\n",
       "  (fc): Linear(in_features=512, out_features=2, bias=True)\n",
       ")"
      ]
     },
     "execution_count": 8,
     "metadata": {},
     "output_type": "execute_result"
    }
   ],
   "source": [
    "model = ResNetLFCC()\n",
    "device = torch.device(\"cuda\" if torch.cuda.is_available() else \"cpu\")\n",
    "model.to(device)"
   ]
  },
  {
   "cell_type": "code",
   "execution_count": 9,
   "id": "bbff3dd8-918e-44f2-a68a-0d9ddfd7b2c5",
   "metadata": {},
   "outputs": [],
   "source": [
    "import torch\n",
    "import torch.nn as nn\n",
    "import torch.optim as optim\n",
    "from tqdm import tqdm\n",
    "\n",
    "def train(model, loader, criterion, optimizer, device):\n",
    "    model.train()\n",
    "    running_loss, correct, total = 0.0, 0, 0\n",
    "\n",
    "    for inputs, labels in tqdm(loader, desc=\"Training\"):\n",
    "        inputs, labels = inputs.to(device), labels.to(device)\n",
    "\n",
    "        optimizer.zero_grad()\n",
    "        outputs = model(inputs)\n",
    "        loss = criterion(outputs, labels)\n",
    "\n",
    "        loss.backward()\n",
    "        optimizer.step()\n",
    "\n",
    "        running_loss += loss.item() * inputs.size(0)\n",
    "        preds = outputs.argmax(dim=1)\n",
    "        correct += (preds == labels).sum().item()\n",
    "        total += labels.size(0)\n",
    "\n",
    "    return running_loss / total, correct / total"
   ]
  },
  {
   "cell_type": "code",
   "execution_count": 10,
   "id": "5a729925-aedc-4fa3-b2d2-09498ab36ddb",
   "metadata": {},
   "outputs": [],
   "source": [
    "def validate(model, loader, criterion, device):\n",
    "    model.eval()\n",
    "    running_loss, correct, total = 0.0, 0, 0\n",
    "\n",
    "    with torch.no_grad():\n",
    "        for inputs, labels in tqdm(loader, desc=\"Validating\"):\n",
    "            inputs, labels = inputs.to(device), labels.to(device)\n",
    "\n",
    "            outputs = model(inputs)\n",
    "            loss = criterion(outputs, labels)\n",
    "\n",
    "            running_loss += loss.item() * inputs.size(0)\n",
    "            preds = outputs.argmax(dim=1)\n",
    "            correct += (preds == labels).sum().item()\n",
    "            total += labels.size(0)\n",
    "\n",
    "    return running_loss / total, correct / total"
   ]
  },
  {
   "cell_type": "code",
   "execution_count": 11,
   "id": "ccf19956-2f17-4279-a871-7ebacc89283c",
   "metadata": {},
   "outputs": [
    {
     "name": "stdout",
     "output_type": "stream",
     "text": [
      "\n",
      "Epoch 1/10\n"
     ]
    },
    {
     "name": "stderr",
     "output_type": "stream",
     "text": [
      "Training: 100%|██████████| 1502/1502 [06:01<00:00,  4.15it/s]\n",
      "Validating: 100%|██████████| 376/376 [01:17<00:00,  4.86it/s]\n"
     ]
    },
    {
     "name": "stdout",
     "output_type": "stream",
     "text": [
      "Train Loss: 0.2400 | Accuracy: 89.46%\n",
      "Val   Loss: 0.1513 | Accuracy: 93.59%\n",
      "\n",
      "Epoch 2/10\n"
     ]
    },
    {
     "name": "stderr",
     "output_type": "stream",
     "text": [
      "Training: 100%|██████████| 1502/1502 [03:05<00:00,  8.10it/s]\n",
      "Validating: 100%|██████████| 376/376 [00:08<00:00, 43.71it/s]\n"
     ]
    },
    {
     "name": "stdout",
     "output_type": "stream",
     "text": [
      "Train Loss: 0.1223 | Accuracy: 95.16%\n",
      "Val   Loss: 0.0721 | Accuracy: 97.37%\n",
      "\n",
      "Epoch 3/10\n"
     ]
    },
    {
     "name": "stderr",
     "output_type": "stream",
     "text": [
      "Training: 100%|██████████| 1502/1502 [01:35<00:00, 15.80it/s]\n",
      "Validating: 100%|██████████| 376/376 [00:08<00:00, 44.41it/s]\n"
     ]
    },
    {
     "name": "stdout",
     "output_type": "stream",
     "text": [
      "Train Loss: 0.0965 | Accuracy: 96.29%\n",
      "Val   Loss: 0.2796 | Accuracy: 89.99%\n",
      "\n",
      "Epoch 4/10\n"
     ]
    },
    {
     "name": "stderr",
     "output_type": "stream",
     "text": [
      "Training: 100%|██████████| 1502/1502 [01:34<00:00, 15.91it/s]\n",
      "Validating: 100%|██████████| 376/376 [00:08<00:00, 43.53it/s]\n"
     ]
    },
    {
     "name": "stdout",
     "output_type": "stream",
     "text": [
      "Train Loss: 0.0780 | Accuracy: 97.03%\n",
      "Val   Loss: 0.0462 | Accuracy: 98.25%\n",
      "\n",
      "Epoch 5/10\n"
     ]
    },
    {
     "name": "stderr",
     "output_type": "stream",
     "text": [
      "Training: 100%|██████████| 1502/1502 [01:34<00:00, 15.93it/s]\n",
      "Validating: 100%|██████████| 376/376 [00:08<00:00, 44.22it/s]\n"
     ]
    },
    {
     "name": "stdout",
     "output_type": "stream",
     "text": [
      "Train Loss: 0.0659 | Accuracy: 97.43%\n",
      "Val   Loss: 0.3127 | Accuracy: 89.43%\n",
      "\n",
      "Epoch 6/10\n"
     ]
    },
    {
     "name": "stderr",
     "output_type": "stream",
     "text": [
      "Training: 100%|██████████| 1502/1502 [01:34<00:00, 15.91it/s]\n",
      "Validating: 100%|██████████| 376/376 [00:08<00:00, 43.86it/s]\n"
     ]
    },
    {
     "name": "stdout",
     "output_type": "stream",
     "text": [
      "Train Loss: 0.0588 | Accuracy: 97.71%\n",
      "Val   Loss: 0.0581 | Accuracy: 97.62%\n",
      "\n",
      "Epoch 7/10\n"
     ]
    },
    {
     "name": "stderr",
     "output_type": "stream",
     "text": [
      "Training: 100%|██████████| 1502/1502 [01:34<00:00, 15.93it/s]\n",
      "Validating: 100%|██████████| 376/376 [00:08<00:00, 43.78it/s]\n"
     ]
    },
    {
     "name": "stdout",
     "output_type": "stream",
     "text": [
      "Train Loss: 0.0478 | Accuracy: 98.32%\n",
      "Val   Loss: 0.0449 | Accuracy: 98.38%\n",
      "\n",
      "Epoch 8/10\n"
     ]
    },
    {
     "name": "stderr",
     "output_type": "stream",
     "text": [
      "Training: 100%|██████████| 1502/1502 [01:34<00:00, 15.91it/s]\n",
      "Validating: 100%|██████████| 376/376 [00:08<00:00, 44.07it/s]\n"
     ]
    },
    {
     "name": "stdout",
     "output_type": "stream",
     "text": [
      "Train Loss: 0.0426 | Accuracy: 98.42%\n",
      "Val   Loss: 0.0461 | Accuracy: 98.10%\n",
      "\n",
      "Epoch 9/10\n"
     ]
    },
    {
     "name": "stderr",
     "output_type": "stream",
     "text": [
      "Training: 100%|██████████| 1502/1502 [01:34<00:00, 15.92it/s]\n",
      "Validating: 100%|██████████| 376/376 [00:08<00:00, 43.75it/s]\n"
     ]
    },
    {
     "name": "stdout",
     "output_type": "stream",
     "text": [
      "Train Loss: 0.0346 | Accuracy: 98.76%\n",
      "Val   Loss: 0.0403 | Accuracy: 98.48%\n",
      "\n",
      "Epoch 10/10\n"
     ]
    },
    {
     "name": "stderr",
     "output_type": "stream",
     "text": [
      "Training: 100%|██████████| 1502/1502 [01:34<00:00, 15.93it/s]\n",
      "Validating: 100%|██████████| 376/376 [00:08<00:00, 44.39it/s]"
     ]
    },
    {
     "name": "stdout",
     "output_type": "stream",
     "text": [
      "Train Loss: 0.0354 | Accuracy: 98.63%\n",
      "Val   Loss: 0.0494 | Accuracy: 97.90%\n"
     ]
    },
    {
     "name": "stderr",
     "output_type": "stream",
     "text": [
      "\n"
     ]
    }
   ],
   "source": [
    "criterion = nn.CrossEntropyLoss()\n",
    "optimizer = optim.Adam(model.parameters(), lr=1e-4)\n",
    "\n",
    "num_epochs = 10\n",
    "best_val_acc = 0.0\n",
    "save_path = \"resnet_lfcc.pth\"\n",
    "\n",
    "for epoch in range(num_epochs):\n",
    "    print(f\"\\nEpoch {epoch + 1}/{num_epochs}\")\n",
    "    \n",
    "    train_loss, train_acc = train(model, train_loader, criterion, optimizer, device)\n",
    "    val_loss, val_acc = validate(model, val_loader, criterion, device)\n",
    "\n",
    "    print(f\"Train Loss: {train_loss:.4f} | Accuracy: {train_acc*100:.2f}%\")\n",
    "    print(f\"Val   Loss: {val_loss:.4f} | Accuracy: {val_acc*100:.2f}%\")\n",
    "\n",
    "    if val_acc > best_val_acc:\n",
    "        best_val_acc = val_acc\n",
    "        torch.save(model.state_dict(), save_path)"
   ]
  },
  {
   "cell_type": "code",
   "execution_count": 12,
   "id": "a5313019-ebd4-4224-9f9b-345b43c7452c",
   "metadata": {},
   "outputs": [],
   "source": [
    "from sklearn.metrics import roc_curve, auc, confusion_matrix\n",
    "import numpy as np\n",
    "\n",
    "def evaluate_scores(model, loader, device):\n",
    "    model.eval()\n",
    "    all_labels = []\n",
    "    all_scores = []\n",
    "\n",
    "    with torch.no_grad():\n",
    "        for inputs, labels in loader:\n",
    "            inputs = inputs.to(device)\n",
    "            outputs = model(inputs)\n",
    "\n",
    "            probs = torch.softmax(outputs, dim=1)[:, 1]\n",
    "            all_scores.extend(probs.cpu().numpy())\n",
    "            all_labels.extend(labels.cpu().numpy())\n",
    "\n",
    "    return np.array(all_scores), np.array(all_labels)"
   ]
  },
  {
   "cell_type": "code",
   "execution_count": 13,
   "id": "aa0c76be-3804-4032-b9ff-02d3139dfc08",
   "metadata": {},
   "outputs": [],
   "source": [
    "import matplotlib.pyplot as plt\n",
    "\n",
    "def compute_eer(y_true, y_score):\n",
    "    fpr, tpr, thresholds = roc_curve(y_true, y_score, pos_label=1)\n",
    "    fnr = 1 - tpr\n",
    "    eer_threshold = thresholds[np.nanargmin(np.absolute(fnr - fpr))]\n",
    "    eer = fpr[np.nanargmin(np.absolute(fnr - fpr))]\n",
    "    return eer * 100, eer_threshold"
   ]
  },
  {
   "cell_type": "code",
   "execution_count": 14,
   "id": "8f16b059-82b5-4b82-a1ec-75bb4b9dd2b8",
   "metadata": {},
   "outputs": [],
   "source": [
    "def plot_confusion(y_true, y_pred, labels=[\"Spoof\", \"Bonafide\"]):\n",
    "    cm = confusion_matrix(y_true, y_pred)\n",
    "    print(f\"\\nConfusion Matrix:\\n{cm}\")"
   ]
  },
  {
   "cell_type": "code",
   "execution_count": 15,
   "id": "b1cf3b9f-9f30-41a5-bbe5-ee98851ba0ce",
   "metadata": {},
   "outputs": [
    {
     "name": "stdout",
     "output_type": "stream",
     "text": [
      "\n",
      "Equal Error Rate (EER): 1.41%\n",
      "AUC: 0.999\n",
      "\n",
      "Confusion Matrix:\n",
      "[[3765   54]\n",
      " [  31 2155]]\n"
     ]
    }
   ],
   "source": [
    "scores, labels = evaluate_scores(model, val_loader, device)\n",
    "\n",
    "eer, threshold = compute_eer(labels, scores)\n",
    "print(f\"\\nEqual Error Rate (EER): {eer:.2f}%\")\n",
    "\n",
    "fpr, tpr, _ = roc_curve(labels, scores)\n",
    "roc_auc = auc(fpr, tpr)\n",
    "print(f\"AUC: {roc_auc:.3f}\")\n",
    "\n",
    "y_pred = (scores >= threshold).astype(int)\n",
    "plot_confusion(labels, y_pred)\n"
   ]
  },
  {
   "cell_type": "code",
   "execution_count": 16,
   "id": "54af7dfe-4f55-4a94-ba71-d5941e8263b1",
   "metadata": {},
   "outputs": [
    {
     "data": {
      "image/png": "[encoded data removed]",
      "text/plain": [
       "<Figure size 640x480 with 1 Axes>"
      ]
     },
     "metadata": {},
     "output_type": "display_data"
    }
   ],
   "source": [
    "plt.figure()\n",
    "plt.plot(fpr, tpr, label=f'ROC curve (AUC = {roc_auc:.2f})')\n",
    "plt.plot([0, 1], [0, 1], 'k--')\n",
    "plt.xlabel('False Positive Rate')\n",
    "plt.ylabel('True Positive Rate')\n",
    "plt.title('Receiver Operating Characteristic')\n",
    "plt.legend(loc='lower right')\n",
    "plt.grid()\n",
    "plt.tight_layout()\n",
    "plt.show()\n"
   ]
  },
  {
   "cell_type": "code",
   "execution_count": 17,
   "id": "f72dea70-ec32-4ac2-bb43-8874463bbf4c",
   "metadata": {},
   "outputs": [
    {
     "data": {
      "image/png": "[encoded data removed]",
      "text/plain": [
       "<Figure size 640x480 with 1 Axes>"
      ]
     },
     "metadata": {},
     "output_type": "display_data"
    }
   ],
   "source": [
    "plt.hist(scores[labels == 1], bins=100, alpha=0.6, label=\"Bonafide\")\n",
    "plt.hist(scores[labels == 0], bins=100, alpha=0.6, label=\"Spoof\")\n",
    "plt.legend()\n",
    "plt.title(\"Score Distribution\")\n",
    "plt.show()"
   ]
  },
  {
   "cell_type": "code",
   "execution_count": null,
   "id": "4b667d27-be72-457d-8561-f98a4ef99518",
   "metadata": {},
   "outputs": [],
   "source": []
  }
 ],
 "metadata": {
  "kernelspec": {
   "display_name": "Python [conda env:py310-cuda]",
   "language": "python",
   "name": "conda-env-py310-cuda-py"
  },
  "language_info": {
   "codemirror_mode": {
    "name": "ipython",
    "version": 3
   },
   "file_extension": ".py",
   "mimetype": "text/x-python",
   "name": "python",
   "nbconvert_exporter": "python",
   "pygments_lexer": "ipython3",
   "version": "3.10.18"
  }
 },
 "nbformat": 4,
 "nbformat_minor": 5
}

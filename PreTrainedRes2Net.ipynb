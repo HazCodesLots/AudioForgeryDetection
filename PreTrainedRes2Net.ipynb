{
 "cells": [
  {
   "cell_type": "code",
   "execution_count": 7,
   "id": "38557e85-9901-4d47-a603-7c8db8aabc1a",
   "metadata": {},
   "outputs": [
    {
     "name": "stdout",
     "output_type": "stream",
     "text": [
      "Prediction: AI Generated\n"
     ]
    }
   ],
   "source": [
    "import torch\n",
    "import torch.nn as nn\n",
    "import librosa\n",
    "import torchaudio\n",
    "import torchvision.models as models\n",
    "import numpy as np\n",
    "import os\n",
    "\n",
    "class Res2NetAudioClassifier(nn.Module):\n",
    "    def __init__(self, num_classes=2):\n",
    "        super(Res2NetAudioClassifier, self).__init__()\n",
    "        self.res2net = models.resnet50(pretrained=True)  \n",
    "        self.res2net.conv1 = nn.Conv2d(1, 64, kernel_size=7, stride=2, padding=3, bias=False)  \n",
    "        self.res2net.fc = nn.Linear(self.res2net.fc.in_features, num_classes) \n",
    "\n",
    "    def forward(self, x):\n",
    "        return self.res2net(x)\n",
    "\n",
    "def preprocess_audio(file_path, sample_rate=16000, n_mels=64, max_duration=5.0):\n",
    "    waveform, sr = librosa.load(file_path, sr=sample_rate, duration=max_duration)\n",
    "    mel_spec = librosa.feature.melspectrogram(y=waveform, sr=sr, n_mels=n_mels)\n",
    "    mel_spec = librosa.power_to_db(mel_spec, ref=np.max)\n",
    "    return torch.tensor(mel_spec, dtype=torch.float32).unsqueeze(0)\n",
    "\n",
    "\n",
    "def load_model(device, model_path=None):\n",
    "    model = Res2NetAudioClassifier(num_classes=2).to(device) \n",
    "    if model_path:\n",
    "        model.load_state_dict(torch.load(model_path, map_location=device))\n",
    "    model.eval()\n",
    "    return model\n",
    "\n",
    "def predict(model, file_path, device):\n",
    "    spectrogram = preprocess_audio(file_path).unsqueeze(0).to(device)\n",
    "    with torch.no_grad():\n",
    "        output = model(spectrogram)\n",
    "        _, predicted = torch.max(output, 1)\n",
    "        return \"AI Generated\" if predicted.item() == 1 else \"Real\"\n",
    "\n",
    "\n",
    "if __name__ == \"__main__\":\n",
    "    device = torch.device(\"cuda\" if torch.cuda.is_available() else \"cpu\")\n",
    "    model = load_model(device) \n",
    "    file_path = 'D:/Projects/AudioForgery/HAD/HAD_train/conbine/HAD_train_fake_00000001.wav'\n",
    "    result = predict(model, file_path, device)\n",
    "    print(f\"Prediction: {result}\")\n"
   ]
  },
  {
   "cell_type": "code",
   "execution_count": 39,
   "id": "fb590710-a4b8-4b1e-841d-78c0937f4a99",
   "metadata": {},
   "outputs": [
    {
     "name": "stdout",
     "output_type": "stream",
     "text": [
      "Prediction: Real\n"
     ]
    }
   ],
   "source": [
    "\n",
    "if __name__ == \"__main__\":\n",
    "    device = torch.device(\"cuda\" if torch.cuda.is_available() else \"cpu\")\n",
    "    model = load_model(device) \n",
    "    file_path ='D:/Projects/AudioForgery/HumanVoice/OSR_us_000_0010_8k.wav'\n",
    "    result = predict(model, file_path, device)\n",
    "    print(f\"Prediction: {result}\")\n"
   ]
  },
  {
   "cell_type": "code",
   "execution_count": null,
   "id": "ab3b3fb7-c015-4cc0-9db4-faa6a9f58594",
   "metadata": {},
   "outputs": [],
   "source": []
  }
 ],
 "metadata": {
  "kernelspec": {
   "display_name": "ipykernel",
   "language": "python",
   "name": "ipykernel"
  },
  "language_info": {
   "codemirror_mode": {
    "name": "ipython",
    "version": 3
   },
   "file_extension": ".py",
   "mimetype": "text/x-python",
   "name": "python",
   "nbconvert_exporter": "python",
   "pygments_lexer": "ipython3",
   "version": "3.13.2"
  }
 },
 "nbformat": 4,
 "nbformat_minor": 5
}
